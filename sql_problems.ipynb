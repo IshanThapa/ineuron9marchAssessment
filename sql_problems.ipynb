{
  "nbformat": 4,
  "nbformat_minor": 0,
  "metadata": {
    "colab": {
      "provenance": [],
      "authorship_tag": "ABX9TyOCLro/qTJq5G647FafI8/y",
      "include_colab_link": true
    },
    "kernelspec": {
      "name": "python3",
      "display_name": "Python 3"
    },
    "language_info": {
      "name": "python"
    }
  },
  "cells": [
    {
      "cell_type": "markdown",
      "metadata": {
        "id": "view-in-github",
        "colab_type": "text"
      },
      "source": [
        "<a href=\"https://colab.research.google.com/github/IshanThapa/ineuron9marchAssessment/blob/master/sql_problems.ipynb\" target=\"_parent\"><img src=\"https://colab.research.google.com/assets/colab-badge.svg\" alt=\"Open In Colab\"/></a>"
      ]
    },
    {
      "cell_type": "code",
      "execution_count": null,
      "metadata": {
        "id": "N1yZIO2qhFJB"
      },
      "outputs": [],
      "source": [
        "#selects all columns from the \"runners\" table\n",
        "SELECT r.*\n",
        "FROM runners r\n",
        "\n",
        "# join \"runners\" and \"races\" tables\n",
        "LEFT JOIN races rc ON r.id = rc.winner_id\n",
        "\n",
        "# finding runners who have not won any races\n",
        "WHERE rc.winner_id IS NULL;\n",
        "\n",
        "\n",
        "#the solution which was provided was a subquery solution which will give error\n",
        "# when NAN values are found so i used left join here whererever null value is found\n"
      ]
    },
    {
      "cell_type": "code",
      "source": [
        "#selects all columns from the test_a table\n",
        "SELECT a.*\n",
        "FROM test_a a\n",
        "\n",
        "# join test_b and test_a tables where no match is present in test_b\n",
        "LEFT JOIN test_b b ON a.id = b.id\n",
        "WHERE b.id IS NULL;\n"
      ],
      "metadata": {
        "id": "bEmsSbyclOlh"
      },
      "execution_count": null,
      "outputs": []
    },
    {
      "cell_type": "code",
      "source": [
        "#selecting most recent training lession count for which any user has been trained\n",
        "SELECT\n",
        "    u.user_id,\n",
        "    u.username,\n",
        "    td.training_id,\n",
        "    COUNT(*) AS lesson_count,\n",
        "    MAX(td.training_date) AS most_recent_date\n",
        "FROM\n",
        "    users u\n",
        "\n",
        "#joined both the tables wrt user_id\n",
        "JOIN\n",
        "    training_details td ON u.user_id = td.user_id\n",
        "GROUP BY\n",
        "    u.user_id,\n",
        "    u.username,\n",
        "    td.training_id\n",
        "\n",
        "#only those which have been watched more than 1 time\n",
        "HAVING\n",
        "    COUNT(*) > 1\n",
        "\n",
        "#training_date with decresing order\n",
        "ORDER BY\n",
        "    most_recent_date DESC;\n"
      ],
      "metadata": {
        "id": "-7s1WizenrJg"
      },
      "execution_count": null,
      "outputs": []
    },
    {
      "cell_type": "code",
      "source": [
        "#Selects the Manager_Id column from the Employee table and cal AVG of\n",
        "#salary for each manager by Group by clause\n",
        "SELECT\n",
        "    e.Manager_Id,\n",
        "    e.Manager AS Manager,\n",
        "    AVG(e.Salary) AS Average_Salary_Under_Manager\n",
        "FROM\n",
        "    Employee e\n",
        "GROUP BY\n",
        "    e.Manager_Id,e.Manager\n",
        "\n",
        "#decending order of Manager_Id\n",
        "ORDER BY\n",
        "    e.Manager_Id;\n"
      ],
      "metadata": {
        "colab": {
          "base_uri": "https://localhost:8080/",
          "height": 106
        },
        "id": "-4dhkvwWrn5q",
        "outputId": "5115b331-e3de-4a81-ee6c-f2c4e1b320e4"
      },
      "execution_count": 12,
      "outputs": [
        {
          "output_type": "error",
          "ename": "IndentationError",
          "evalue": "unexpected indent (<ipython-input-12-3d3499960511>, line 4)",
          "traceback": [
            "\u001b[0;36m  File \u001b[0;32m\"<ipython-input-12-3d3499960511>\"\u001b[0;36m, line \u001b[0;32m4\u001b[0m\n\u001b[0;31m    e.Manager_Id,\u001b[0m\n\u001b[0m    ^\u001b[0m\n\u001b[0;31mIndentationError\u001b[0m\u001b[0;31m:\u001b[0m unexpected indent\n"
          ]
        }
      ]
    },
    {
      "cell_type": "code",
      "source": [],
      "metadata": {
        "id": "Y9AP1vrJsXB5"
      },
      "execution_count": null,
      "outputs": []
    }
  ]
}